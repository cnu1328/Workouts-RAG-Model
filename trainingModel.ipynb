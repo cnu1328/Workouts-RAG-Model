{
 "cells": [
  {
   "cell_type": "code",
   "execution_count": null,
   "metadata": {},
   "outputs": [
    {
     "name": "stderr",
     "output_type": "stream",
     "text": [
      "Special tokens have been added in the vocabulary, make sure the associated word embeddings are fine-tuned or trained.\n"
     ]
    },
    {
     "name": "stdout",
     "output_type": "stream",
     "text": [
      "Training model and creating vector database...\n",
      "Loaded 5 pages from: ../rguktBasarDataset\\about_rgukt\\about_rgukt.pdf\n"
     ]
    },
    {
     "name": "stderr",
     "output_type": "stream",
     "text": [
      "Ignoring wrong pointing object 8 0 (offset 0)\n",
      "Ignoring wrong pointing object 15 0 (offset 0)\n",
      "Ignoring wrong pointing object 34 0 (offset 0)\n",
      "Ignoring wrong pointing object 35 0 (offset 0)\n",
      "Ignoring wrong pointing object 8 0 (offset 0)\n",
      "Ignoring wrong pointing object 18 0 (offset 0)\n",
      "Ignoring wrong pointing object 27 0 (offset 0)\n",
      "Ignoring wrong pointing object 28 0 (offset 0)\n",
      "Ignoring wrong pointing object 8 0 (offset 0)\n",
      "Ignoring wrong pointing object 15 0 (offset 0)\n",
      "Ignoring wrong pointing object 31 0 (offset 0)\n",
      "Ignoring wrong pointing object 32 0 (offset 0)\n"
     ]
    },
    {
     "name": "stdout",
     "output_type": "stream",
     "text": [
      "Loaded 7 pages from: ../rguktBasarDataset\\about_rgukt\\campusFacilities.pdf\n",
      "Loaded 4 pages from: ../rguktBasarDataset\\about_rgukt\\campusLife.pdf\n",
      "Loaded 6 pages from: ../rguktBasarDataset\\acadamic\\academicSection.pdf\n"
     ]
    },
    {
     "name": "stderr",
     "output_type": "stream",
     "text": [
      "Ignoring wrong pointing object 8 0 (offset 0)\n",
      "Ignoring wrong pointing object 23 0 (offset 0)\n",
      "Ignoring wrong pointing object 24 0 (offset 0)\n",
      "Ignoring wrong pointing object 8 0 (offset 0)\n",
      "Ignoring wrong pointing object 18 0 (offset 0)\n",
      "Ignoring wrong pointing object 22 0 (offset 0)\n",
      "Ignoring wrong pointing object 23 0 (offset 0)\n"
     ]
    },
    {
     "name": "stdout",
     "output_type": "stream",
     "text": [
      "Loaded 1021 pages from: ../rguktBasarDataset\\acadamic\\Academic_Regulations_Hand_Book.pdf\n",
      "Loaded 4 pages from: ../rguktBasarDataset\\acadamic\\administrativeSection.pdf\n"
     ]
    },
    {
     "name": "stderr",
     "output_type": "stream",
     "text": [
      "Ignoring wrong pointing object 8 0 (offset 0)\n",
      "Ignoring wrong pointing object 23 0 (offset 0)\n",
      "Ignoring wrong pointing object 24 0 (offset 0)\n",
      "Ignoring wrong pointing object 8 0 (offset 0)\n",
      "Ignoring wrong pointing object 20 0 (offset 0)\n",
      "Ignoring wrong pointing object 21 0 (offset 0)\n"
     ]
    },
    {
     "name": "stdout",
     "output_type": "stream",
     "text": [
      "Loaded 3 pages from: ../rguktBasarDataset\\departments\\bioScienceDept.pdf\n",
      "Loaded 4 pages from: ../rguktBasarDataset\\departments\\chemicalDept.pdf\n"
     ]
    },
    {
     "name": "stderr",
     "output_type": "stream",
     "text": [
      "Ignoring wrong pointing object 24 0 (offset 0)\n",
      "Ignoring wrong pointing object 25 0 (offset 0)\n"
     ]
    },
    {
     "name": "stdout",
     "output_type": "stream",
     "text": [
      "Loaded 3 pages from: ../rguktBasarDataset\\departments\\chemistryDept.pdf\n",
      "Loaded 5 pages from: ../rguktBasarDataset\\departments\\civilDept.pdf\n"
     ]
    },
    {
     "name": "stderr",
     "output_type": "stream",
     "text": [
      "Ignoring wrong pointing object 15 0 (offset 0)\n",
      "Ignoring wrong pointing object 16 0 (offset 0)\n",
      "Ignoring wrong pointing object 13 0 (offset 0)\n",
      "Ignoring wrong pointing object 20 0 (offset 0)\n",
      "Ignoring wrong pointing object 21 0 (offset 0)\n"
     ]
    },
    {
     "name": "stdout",
     "output_type": "stream",
     "text": [
      "Loaded 2 pages from: ../rguktBasarDataset\\departments\\civil_dept_info.pdf\n",
      "Loaded 5 pages from: ../rguktBasarDataset\\departments\\cse.pdf\n",
      "Loaded 3 pages from: ../rguktBasarDataset\\departments\\cseDept.pdf\n"
     ]
    },
    {
     "name": "stderr",
     "output_type": "stream",
     "text": [
      "Ignoring wrong pointing object 19 0 (offset 0)\n",
      "Ignoring wrong pointing object 20 0 (offset 0)\n",
      "Ignoring wrong pointing object 13 0 (offset 0)\n",
      "Ignoring wrong pointing object 22 0 (offset 0)\n",
      "Ignoring wrong pointing object 23 0 (offset 0)\n"
     ]
    },
    {
     "name": "stdout",
     "output_type": "stream",
     "text": [
      "Loaded 4 pages from: ../rguktBasarDataset\\departments\\ece.pdf\n",
      "Loaded 3 pages from: ../rguktBasarDataset\\departments\\eceDept.pdf\n"
     ]
    },
    {
     "name": "stderr",
     "output_type": "stream",
     "text": [
      "Ignoring wrong pointing object 13 0 (offset 0)\n",
      "Ignoring wrong pointing object 20 0 (offset 0)\n",
      "Ignoring wrong pointing object 21 0 (offset 0)\n",
      "Ignoring wrong pointing object 20 0 (offset 0)\n",
      "Ignoring wrong pointing object 21 0 (offset 0)\n",
      "Ignoring wrong pointing object 15 0 (offset 0)\n"
     ]
    },
    {
     "name": "stdout",
     "output_type": "stream",
     "text": [
      "Loaded 3 pages from: ../rguktBasarDataset\\departments\\electricalDept.pdf\n",
      "Loaded 3 pages from: ../rguktBasarDataset\\departments\\materialsAndMetallurigicalDept.pdf\n",
      "Loaded 3 pages from: ../rguktBasarDataset\\departments\\mechanicalDept.pdf\n"
     ]
    },
    {
     "name": "stderr",
     "output_type": "stream",
     "text": [
      "Ignoring wrong pointing object 16 0 (offset 0)\n",
      "Ignoring wrong pointing object 8 0 (offset 0)\n",
      "Ignoring wrong pointing object 17 0 (offset 0)\n",
      "Ignoring wrong pointing object 18 0 (offset 0)\n"
     ]
    },
    {
     "name": "stdout",
     "output_type": "stream",
     "text": [
      "Loaded 2 pages from: ../rguktBasarDataset\\other_files\\civil_dept_info.pdf\n",
      "Loaded 2 pages from: ../rguktBasarDataset\\other_files\\CONFERENCE ROOM_ece.pdf\n",
      "Loaded 2 pages from: ../rguktBasarDataset\\other_files\\csepeo.pdf\n",
      "Loaded 2 pages from: ../rguktBasarDataset\\other_files\\DEPT LIBRARY_ece.pdf\n",
      "Loaded 2 pages from: ../rguktBasarDataset\\other_files\\ece_info.pdf\n"
     ]
    },
    {
     "name": "stderr",
     "output_type": "stream",
     "text": [
      "Ignoring wrong pointing object 13 0 (offset 0)\n",
      "Ignoring wrong pointing object 17 0 (offset 0)\n",
      "Ignoring wrong pointing object 18 0 (offset 0)\n"
     ]
    },
    {
     "name": "stdout",
     "output_type": "stream",
     "text": [
      "Loaded 3 pages from: ../rguktBasarDataset\\other_files\\ECE_PEO_PO.pdf\n",
      "Loaded 2 pages from: ../rguktBasarDataset\\other_files\\eee_Committees_in_the_Department.pdf\n",
      "Loaded 2 pages from: ../rguktBasarDataset\\other_files\\eee_info.pdf\n",
      "Loaded 2 pages from: ../rguktBasarDataset\\other_files\\eee_peo_po.pdf\n",
      "Loaded 3 pages from: ../rguktBasarDataset\\other_files\\eee_RESEARCH_PUBLICATIONS.pdf\n"
     ]
    },
    {
     "name": "stderr",
     "output_type": "stream",
     "text": [
      "Ignoring wrong pointing object 14 0 (offset 0)\n",
      "Ignoring wrong pointing object 15 0 (offset 0)\n"
     ]
    },
    {
     "name": "stdout",
     "output_type": "stream",
     "text": [
      "Loaded 2 pages from: ../rguktBasarDataset\\other_files\\FACULTYPUBLICATIONS.pdf\n",
      "Loaded 2 pages from: ../rguktBasarDataset\\other_files\\Faculty_Publications_mme.pdf\n",
      "Loaded 1 pages from: ../rguktBasarDataset\\other_files\\humanities.pdf\n"
     ]
    },
    {
     "name": "stderr",
     "output_type": "stream",
     "text": [
      "Ignoring wrong pointing object 14 0 (offset 0)\n",
      "Ignoring wrong pointing object 15 0 (offset 0)\n"
     ]
    },
    {
     "name": "stdout",
     "output_type": "stream",
     "text": [
      "Loaded 5 pages from: ../rguktBasarDataset\\other_files\\labs_ece.pdf\n",
      "Loaded 6 pages from: ../rguktBasarDataset\\other_files\\Lab_Details.pdf\n",
      "Loaded 1 pages from: ../rguktBasarDataset\\other_files\\Management.pdf\n",
      "Loaded 2 pages from: ../rguktBasarDataset\\other_files\\ME_Library.pdf\n",
      "Loaded 4 pages from: ../rguktBasarDataset\\other_files\\me_peo_po.pdf\n"
     ]
    },
    {
     "name": "stderr",
     "output_type": "stream",
     "text": [
      "Ignoring wrong pointing object 16 0 (offset 0)\n",
      "Ignoring wrong pointing object 17 0 (offset 0)\n"
     ]
    },
    {
     "name": "stdout",
     "output_type": "stream",
     "text": [
      "Loaded 4 pages from: ../rguktBasarDataset\\other_files\\PEO.pdf\n",
      "Loaded 1 pages from: ../rguktBasarDataset\\other_files\\physics.pdf\n",
      "Loaded 2 pages from: ../rguktBasarDataset\\other_files\\RESEARCH AND DEVELOPMENT LABS_ece.pdf\n",
      "Loaded 2 pages from: ../rguktBasarDataset\\other_files\\SEMINAR HALL_ece.pdf\n"
     ]
    },
    {
     "name": "stderr",
     "output_type": "stream",
     "text": [
      "Ignoring wrong pointing object 19 0 (offset 0)\n",
      "Ignoring wrong pointing object 45 0 (offset 0)\n",
      "Ignoring wrong pointing object 46 0 (offset 0)\n"
     ]
    },
    {
     "name": "stdout",
     "output_type": "stream",
     "text": [
      "Loaded 6 pages from: ../rguktBasarDataset\\scholarship\\SCHOLARSHIP SECTION.pdf\n",
      "Loaded 11 pages from: ../rguktBasarDataset\\tnp\\trainingAndPlacements.pdf\n"
     ]
    }
   ],
   "source": [
    "import os\n",
    "import pickle\n",
    "from langchain_community.document_loaders import PyPDFLoader\n",
    "from langchain.text_splitter import RecursiveCharacterTextSplitter\n",
    "from langchain_huggingface import HuggingFaceEmbeddings\n",
    "from langchain_community.vectorstores import Chroma\n",
    "from dotenv import load_dotenv\n",
    "\n",
    "load_dotenv()\n",
    "os.environ[\"HF_TOKEN\"] = os.getenv(\"HF_TOKEN\")\n",
    "\n",
    "# Set up embeddings (use KaLM model)\n",
    "# embeddings = HuggingFaceEmbeddings(model_name=\"HIT-TMG/KaLM-embedding-multilingual-mini-instruct-v1.5\")\n",
    "\n",
    "embeddings = HuggingFaceEmbeddings(model_name=\"all-MiniLM-L6-v2\")\n",
    "\n",
    "# File paths for ChromaDB storage\n",
    "DATASET_PATH = \"../rguktBasarDataset\"\n",
    "TRAINED_DATA_PATH = \"trainedData\"\n",
    "CHROMA_DB_PATH = os.path.expanduser(\"~/chroma_db\")\n",
    "METADATA_FILE = os.path.join(TRAINED_DATA_PATH, \"chroma_metadata.pkl\")\n",
    "\n",
    "os.makedirs(TRAINED_DATA_PATH, exist_ok=True)\n",
    "\n",
    "def load_pdfs_from_subfolders(base_path):\n",
    "    \"\"\"Loads all PDFs from subdirectories.\"\"\"\n",
    "    all_docs = []\n",
    "    for root, _, files in os.walk(base_path):\n",
    "        for file in files:\n",
    "            if file.lower().endswith(\".pdf\"):\n",
    "                file_path = os.path.join(root, file)\n",
    "                try:\n",
    "                    loader = PyPDFLoader(file_path)\n",
    "                    docs = loader.load()\n",
    "                    if docs:\n",
    "                        all_docs.extend(docs)\n",
    "                        print(f\"Loaded {len(docs)} pages from: {file_path}\")\n",
    "                    else:\n",
    "                        print(f\"Warning: No text extracted from {file_path}\")\n",
    "                except Exception as e:\n",
    "                    print(f\"Error loading {file_path}: {e}\")\n",
    "    return all_docs\n",
    "\n",
    "def create_and_save_vector_database():\n",
    "    print(\"Training model and creating vector database...\")\n",
    "\n",
    "    # Load all PDFs from dataset directory (including subfolders)\n",
    "    docs = load_pdfs_from_subfolders(DATASET_PATH)\n",
    "    \n",
    "    if not docs:\n",
    "        print(\"Error: No documents found! Check dataset path and PDF contents.\")\n",
    "        return\n",
    "\n",
    "    # Split documents into chunks\n",
    "    text_splitter = RecursiveCharacterTextSplitter(chunk_size=2000, chunk_overlap=500)\n",
    "    final_documents = text_splitter.split_documents(docs)\n",
    "    \n",
    "    if not final_documents:\n",
    "        print(\"Error: No valid text chunks generated for embeddings.\")\n",
    "        return\n",
    "\n",
    "    # Create Chroma vector database\n",
    "    try:\n",
    "        vector_store = Chroma.from_documents(final_documents, embeddings, persist_directory=CHROMA_DB_PATH)\n",
    "    except Exception as e:\n",
    "        print(f\"Error creating vector database: {e}\")\n",
    "        return\n",
    "\n",
    "    # Save metadata\n",
    "    with open(METADATA_FILE, \"wb\") as f:\n",
    "        pickle.dump(final_documents, f)\n",
    "\n",
    "    print(\"Vector database created and saved to disk.\")\n",
    "\n",
    "if __name__ == \"__main__\":\n",
    "    create_and_save_vector_database()\n",
    "    print(\"Vector database is ready for use.\")\n"
   ]
  }
 ],
 "metadata": {
  "kernelspec": {
   "display_name": "Python 3",
   "language": "python",
   "name": "python3"
  },
  "language_info": {
   "codemirror_mode": {
    "name": "ipython",
    "version": 3
   },
   "file_extension": ".py",
   "mimetype": "text/x-python",
   "name": "python",
   "nbconvert_exporter": "python",
   "pygments_lexer": "ipython3",
   "version": "3.12.0"
  }
 },
 "nbformat": 4,
 "nbformat_minor": 2
}
